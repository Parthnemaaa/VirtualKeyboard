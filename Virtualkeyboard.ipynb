{
 "cells": [
  {
   "cell_type": "code",
   "execution_count": 1,
   "id": "1c23acf1",
   "metadata": {},
   "outputs": [
    {
     "name": "stdout",
     "output_type": "stream",
     "text": [
      "Defaulting to user installation because normal site-packages is not writeable\n",
      "Requirement already satisfied: pyautogui in /Users/asthaparoha/Library/Python/3.9/lib/python/site-packages (0.9.54)\n",
      "Requirement already satisfied: pymsgbox in /Users/asthaparoha/Library/Python/3.9/lib/python/site-packages (from pyautogui) (1.0.9)\n",
      "Requirement already satisfied: mouseinfo in /Users/asthaparoha/Library/Python/3.9/lib/python/site-packages (from pyautogui) (0.1.3)\n",
      "Requirement already satisfied: pyscreeze>=0.1.21 in /Users/asthaparoha/Library/Python/3.9/lib/python/site-packages (from pyautogui) (1.0.1)\n",
      "Requirement already satisfied: pygetwindow>=0.0.5 in /Users/asthaparoha/Library/Python/3.9/lib/python/site-packages (from pyautogui) (0.0.9)\n",
      "Requirement already satisfied: pyobjc-framework-quartz in /Users/asthaparoha/Library/Python/3.9/lib/python/site-packages (from pyautogui) (11.1)\n",
      "Requirement already satisfied: pytweening>=1.0.4 in /Users/asthaparoha/Library/Python/3.9/lib/python/site-packages (from pyautogui) (1.2.0)\n",
      "Requirement already satisfied: pyobjc-core in /Users/asthaparoha/Library/Python/3.9/lib/python/site-packages (from pyautogui) (11.1)\n",
      "Requirement already satisfied: pyrect in /Users/asthaparoha/Library/Python/3.9/lib/python/site-packages (from pygetwindow>=0.0.5->pyautogui) (0.2.0)\n",
      "Requirement already satisfied: Pillow>=9.2.0 in /Users/asthaparoha/Library/Python/3.9/lib/python/site-packages (from pyscreeze>=0.1.21->pyautogui) (11.3.0)\n",
      "Requirement already satisfied: pyperclip in /Users/asthaparoha/Library/Python/3.9/lib/python/site-packages (from mouseinfo->pyautogui) (1.9.0)\n",
      "Requirement already satisfied: rubicon-objc in /Users/asthaparoha/Library/Python/3.9/lib/python/site-packages (from mouseinfo->pyautogui) (0.5.2)\n",
      "Requirement already satisfied: pyobjc-framework-Cocoa>=11.1 in /Users/asthaparoha/Library/Python/3.9/lib/python/site-packages (from pyobjc-framework-quartz->pyautogui) (11.1)\n",
      "\u001b[33mWARNING: You are using pip version 21.2.4; however, version 25.2 is available.\n",
      "You should consider upgrading via the '/Library/Developer/CommandLineTools/usr/bin/python3 -m pip install --upgrade pip' command.\u001b[0m\n",
      "Note: you may need to restart the kernel to use updated packages.\n"
     ]
    }
   ],
   "source": [
    "pip install pyautogui"
   ]
  },
  {
   "cell_type": "code",
   "execution_count": 2,
   "id": "a43171e8",
   "metadata": {},
   "outputs": [
    {
     "name": "stdout",
     "output_type": "stream",
     "text": [
      "Defaulting to user installation because normal site-packages is not writeable\n",
      "Requirement already satisfied: playsound in /Users/asthaparoha/Library/Python/3.9/lib/python/site-packages (1.3.0)\n",
      "\u001b[33mWARNING: You are using pip version 21.2.4; however, version 25.2 is available.\n",
      "You should consider upgrading via the '/Library/Developer/CommandLineTools/usr/bin/python3 -m pip install --upgrade pip' command.\u001b[0m\n",
      "Note: you may need to restart the kernel to use updated packages.\n"
     ]
    }
   ],
   "source": [
    "pip install playsound\n"
   ]
  },
  {
   "cell_type": "code",
   "execution_count": 3,
   "id": "3ea33cdf",
   "metadata": {},
   "outputs": [
    {
     "name": "stdout",
     "output_type": "stream",
     "text": [
      "Defaulting to user installation because normal site-packages is not writeable\n",
      "Requirement already satisfied: opencv-python in /Users/asthaparoha/Library/Python/3.9/lib/python/site-packages (4.12.0.88)\n",
      "Requirement already satisfied: mediapipe in /Users/asthaparoha/Library/Python/3.9/lib/python/site-packages (0.10.14)\n",
      "Requirement already satisfied: numpy in /Users/asthaparoha/Library/Python/3.9/lib/python/site-packages (2.0.2)\n",
      "Requirement already satisfied: flatbuffers>=2.0 in /Users/asthaparoha/Library/Python/3.9/lib/python/site-packages (from mediapipe) (25.2.10)\n",
      "Requirement already satisfied: attrs>=19.1.0 in /Users/asthaparoha/Library/Python/3.9/lib/python/site-packages (from mediapipe) (25.3.0)\n",
      "Requirement already satisfied: absl-py in /Users/asthaparoha/Library/Python/3.9/lib/python/site-packages (from mediapipe) (2.3.1)\n",
      "Requirement already satisfied: jax in /Users/asthaparoha/Library/Python/3.9/lib/python/site-packages (from mediapipe) (0.4.30)\n",
      "Requirement already satisfied: jaxlib in /Users/asthaparoha/Library/Python/3.9/lib/python/site-packages (from mediapipe) (0.4.30)\n",
      "Requirement already satisfied: protobuf<5,>=4.25.3 in /Users/asthaparoha/Library/Python/3.9/lib/python/site-packages (from mediapipe) (4.25.8)\n",
      "Requirement already satisfied: opencv-contrib-python in /Users/asthaparoha/Library/Python/3.9/lib/python/site-packages (from mediapipe) (4.12.0.88)\n",
      "Requirement already satisfied: sounddevice>=0.4.4 in /Users/asthaparoha/Library/Python/3.9/lib/python/site-packages (from mediapipe) (0.5.2)\n",
      "Requirement already satisfied: matplotlib in /Users/asthaparoha/Library/Python/3.9/lib/python/site-packages (from mediapipe) (3.9.4)\n",
      "Requirement already satisfied: CFFI>=1.0 in /Users/asthaparoha/Library/Python/3.9/lib/python/site-packages (from sounddevice>=0.4.4->mediapipe) (1.17.1)\n",
      "Requirement already satisfied: pycparser in /Users/asthaparoha/Library/Python/3.9/lib/python/site-packages (from CFFI>=1.0->sounddevice>=0.4.4->mediapipe) (2.22)\n",
      "Requirement already satisfied: opt-einsum in /Users/asthaparoha/Library/Python/3.9/lib/python/site-packages (from jax->mediapipe) (3.4.0)\n",
      "Requirement already satisfied: scipy>=1.9 in /Users/asthaparoha/Library/Python/3.9/lib/python/site-packages (from jax->mediapipe) (1.13.1)\n",
      "Requirement already satisfied: ml-dtypes>=0.2.0 in /Users/asthaparoha/Library/Python/3.9/lib/python/site-packages (from jax->mediapipe) (0.5.3)\n",
      "Requirement already satisfied: importlib-metadata>=4.6 in /Users/asthaparoha/Library/Python/3.9/lib/python/site-packages (from jax->mediapipe) (8.7.0)\n",
      "Requirement already satisfied: zipp>=3.20 in /Users/asthaparoha/Library/Python/3.9/lib/python/site-packages (from importlib-metadata>=4.6->jax->mediapipe) (3.23.0)\n",
      "Requirement already satisfied: packaging>=20.0 in /Users/asthaparoha/Library/Python/3.9/lib/python/site-packages (from matplotlib->mediapipe) (25.0)\n",
      "Requirement already satisfied: pyparsing>=2.3.1 in /Users/asthaparoha/Library/Python/3.9/lib/python/site-packages (from matplotlib->mediapipe) (3.2.3)\n",
      "Requirement already satisfied: importlib-resources>=3.2.0 in /Users/asthaparoha/Library/Python/3.9/lib/python/site-packages (from matplotlib->mediapipe) (6.5.2)\n",
      "Requirement already satisfied: python-dateutil>=2.7 in /Users/asthaparoha/Library/Python/3.9/lib/python/site-packages (from matplotlib->mediapipe) (2.9.0.post0)\n",
      "Requirement already satisfied: kiwisolver>=1.3.1 in /Users/asthaparoha/Library/Python/3.9/lib/python/site-packages (from matplotlib->mediapipe) (1.4.7)\n",
      "Requirement already satisfied: cycler>=0.10 in /Users/asthaparoha/Library/Python/3.9/lib/python/site-packages (from matplotlib->mediapipe) (0.12.1)\n",
      "Requirement already satisfied: contourpy>=1.0.1 in /Users/asthaparoha/Library/Python/3.9/lib/python/site-packages (from matplotlib->mediapipe) (1.3.0)\n",
      "Requirement already satisfied: fonttools>=4.22.0 in /Users/asthaparoha/Library/Python/3.9/lib/python/site-packages (from matplotlib->mediapipe) (4.59.2)\n",
      "Requirement already satisfied: pillow>=8 in /Users/asthaparoha/Library/Python/3.9/lib/python/site-packages (from matplotlib->mediapipe) (11.3.0)\n",
      "Requirement already satisfied: six>=1.5 in /Library/Developer/CommandLineTools/Library/Frameworks/Python3.framework/Versions/3.9/lib/python3.9/site-packages (from python-dateutil>=2.7->matplotlib->mediapipe) (1.15.0)\n",
      "\u001b[33mWARNING: You are using pip version 21.2.4; however, version 25.2 is available.\n",
      "You should consider upgrading via the '/Library/Developer/CommandLineTools/usr/bin/python3 -m pip install --upgrade pip' command.\u001b[0m\n",
      "Note: you may need to restart the kernel to use updated packages.\n"
     ]
    }
   ],
   "source": [
    "pip install opencv-python mediapipe numpy"
   ]
  },
  {
   "cell_type": "code",
   "execution_count": 4,
   "id": "23a1d52c",
   "metadata": {},
   "outputs": [
    {
     "name": "stdout",
     "output_type": "stream",
     "text": [
      "Defaulting to user installation because normal site-packages is not writeable\n",
      "Requirement already satisfied: pygame in /Users/asthaparoha/Library/Python/3.9/lib/python/site-packages (2.6.1)\n",
      "\u001b[33mWARNING: You are using pip version 21.2.4; however, version 25.2 is available.\n",
      "You should consider upgrading via the '/Library/Developer/CommandLineTools/usr/bin/python3 -m pip install --upgrade pip' command.\u001b[0m\n",
      "Note: you may need to restart the kernel to use updated packages.\n"
     ]
    }
   ],
   "source": [
    "pip install pygame\n"
   ]
  },
  {
   "cell_type": "code",
   "execution_count": 5,
   "id": "d388d7cc",
   "metadata": {},
   "outputs": [
    {
     "name": "stdout",
     "output_type": "stream",
     "text": [
      "Defaulting to user installation because normal site-packages is not writeable\n",
      "Requirement already satisfied: pydub in /Users/asthaparoha/Library/Python/3.9/lib/python/site-packages (0.25.1)\n",
      "\u001b[33mWARNING: You are using pip version 21.2.4; however, version 25.2 is available.\n",
      "You should consider upgrading via the '/Library/Developer/CommandLineTools/usr/bin/python3 -m pip install --upgrade pip' command.\u001b[0m\n",
      "Note: you may need to restart the kernel to use updated packages.\n"
     ]
    }
   ],
   "source": [
    "pip install pydub\n"
   ]
  },
  {
   "cell_type": "code",
   "execution_count": 6,
   "id": "b94a4af7",
   "metadata": {},
   "outputs": [
    {
     "name": "stdout",
     "output_type": "stream",
     "text": [
      "Defaulting to user installation because normal site-packages is not writeable\n",
      "Requirement already satisfied: sounddevice in /Users/asthaparoha/Library/Python/3.9/lib/python/site-packages (0.5.2)\n",
      "Requirement already satisfied: numpy in /Users/asthaparoha/Library/Python/3.9/lib/python/site-packages (2.0.2)\n",
      "Requirement already satisfied: CFFI>=1.0 in /Users/asthaparoha/Library/Python/3.9/lib/python/site-packages (from sounddevice) (1.17.1)\n",
      "Requirement already satisfied: pycparser in /Users/asthaparoha/Library/Python/3.9/lib/python/site-packages (from CFFI>=1.0->sounddevice) (2.22)\n",
      "\u001b[33mWARNING: You are using pip version 21.2.4; however, version 25.2 is available.\n",
      "You should consider upgrading via the '/Library/Developer/CommandLineTools/usr/bin/python3 -m pip install --upgrade pip' command.\u001b[0m\n",
      "Note: you may need to restart the kernel to use updated packages.\n"
     ]
    }
   ],
   "source": [
    "pip install sounddevice numpy\n"
   ]
  },
  {
   "cell_type": "code",
   "execution_count": 7,
   "id": "81ece621",
   "metadata": {},
   "outputs": [],
   "source": [
    "import numpy as np\n",
    "import sounddevice as sd\n",
    "import time\n",
    "\n",
    "def play_click():\n",
    "    fs = 44100        # Sampling rate\n",
    "    duration = 0.05   # 50ms click\n",
    "    t = np.linspace(0, duration, int(fs*duration), False)\n",
    "    tone = 0.5 * np.sin(2 * np.pi * 1000 * t)  # 1000Hz sine wave\n",
    "    sd.play(tone, fs)\n",
    "    sd.wait()  # wait until sound finishes\n",
    "\n",
    "# Play 3 clicks in a row\n",
    "for _ in range(3):\n",
    "    play_click()\n",
    "    time.sleep(0.1)  # short pause between clicks\n"
   ]
  },
  {
   "cell_type": "code",
   "execution_count": null,
   "id": "1ec93ff1",
   "metadata": {},
   "outputs": [
    {
     "name": "stderr",
     "output_type": "stream",
     "text": [
      "WARNING: All log messages before absl::InitializeLog() is called are written to STDERR\n",
      "I0000 00:00:1756902589.798507 25603309 gl_context.cc:357] GL version: 2.1 (2.1 Metal - 89.3), renderer: Apple M1\n",
      "INFO: Created TensorFlow Lite XNNPACK delegate for CPU.\n",
      "W0000 00:00:1756902589.823063 25603618 inference_feedback_manager.cc:114] Feedback manager requires a model with a single signature inference. Disabling support for feedback tensors.\n",
      "W0000 00:00:1756902589.838448 25603618 inference_feedback_manager.cc:114] Feedback manager requires a model with a single signature inference. Disabling support for feedback tensors.\n",
      "2025-09-03 17:59:52.079 Python[21151:25603309] +[IMKClient subclass]: chose IMKClient_Legacy\n",
      "2025-09-03 17:59:52.079 Python[21151:25603309] +[IMKInputSession subclass]: chose IMKInputSession_Legacy\n",
      "/Users/asthaparoha/Library/Python/3.9/lib/python/site-packages/google/protobuf/symbol_database.py:55: UserWarning: SymbolDatabase.GetPrototype() is deprecated. Please use message_factory.GetMessageClass() instead. SymbolDatabase.GetPrototype() will be removed soon.\n",
      "  warnings.warn('SymbolDatabase.GetPrototype() is deprecated. Please '\n"
     ]
    },
    {
     "name": "stdout",
     "output_type": "stream",
     "text": [
      "Clicked: B\n",
      "Clicked: J\n",
      "Clicked: J\n",
      "Clicked: F\n",
      "||PaMacCore (AUHAL)|| Error on line 2796: err='-50', msg=Unknown Error\n",
      "Clicked: J\n",
      "||PaMacCore (AUHAL)|| Error on line 2796: err='-50', msg=Unknown Error\n",
      "Clicked: J\n",
      "||PaMacCore (AUHAL)|| Error on line 2796: err='-50', msg=Unknown Error\n",
      "Clicked: K\n",
      "Clicked: K\n",
      "Clicked: K\n"
     ]
    },
    {
     "ename": "KeyboardInterrupt",
     "evalue": "",
     "output_type": "error",
     "traceback": [
      "\u001b[0;31m---------------------------------------------------------------------------\u001b[0m",
      "\u001b[0;31mKeyboardInterrupt\u001b[0m                         Traceback (most recent call last)",
      "Cell \u001b[0;32mIn[8], line 84\u001b[0m\n\u001b[1;32m     82\u001b[0m image \u001b[38;5;241m=\u001b[39m cv2\u001b[38;5;241m.\u001b[39mflip(image, \u001b[38;5;241m1\u001b[39m)\n\u001b[1;32m     83\u001b[0m rgb_image \u001b[38;5;241m=\u001b[39m cv2\u001b[38;5;241m.\u001b[39mcvtColor(image, cv2\u001b[38;5;241m.\u001b[39mCOLOR_BGR2RGB)\n\u001b[0;32m---> 84\u001b[0m results \u001b[38;5;241m=\u001b[39m \u001b[43mhands\u001b[49m\u001b[38;5;241;43m.\u001b[39;49m\u001b[43mprocess\u001b[49m\u001b[43m(\u001b[49m\u001b[43mrgb_image\u001b[49m\u001b[43m)\u001b[49m\n\u001b[1;32m     85\u001b[0m key_positions \u001b[38;5;241m=\u001b[39m draw_keyboard(image)\n\u001b[1;32m     87\u001b[0m \u001b[38;5;28;01mif\u001b[39;00m results\u001b[38;5;241m.\u001b[39mmulti_hand_landmarks:\n",
      "File \u001b[0;32m~/Library/Python/3.9/lib/python/site-packages/mediapipe/python/solutions/hands.py:153\u001b[0m, in \u001b[0;36mHands.process\u001b[0;34m(self, image)\u001b[0m\n\u001b[1;32m    132\u001b[0m \u001b[38;5;28;01mdef\u001b[39;00m\u001b[38;5;250m \u001b[39m\u001b[38;5;21mprocess\u001b[39m(\u001b[38;5;28mself\u001b[39m, image: np\u001b[38;5;241m.\u001b[39mndarray) \u001b[38;5;241m-\u001b[39m\u001b[38;5;241m>\u001b[39m NamedTuple:\n\u001b[1;32m    133\u001b[0m \u001b[38;5;250m  \u001b[39m\u001b[38;5;124;03m\"\"\"Processes an RGB image and returns the hand landmarks and handedness of each detected hand.\u001b[39;00m\n\u001b[1;32m    134\u001b[0m \n\u001b[1;32m    135\u001b[0m \u001b[38;5;124;03m  Args:\u001b[39;00m\n\u001b[0;32m   (...)\u001b[0m\n\u001b[1;32m    150\u001b[0m \u001b[38;5;124;03m         right hand) of the detected hand.\u001b[39;00m\n\u001b[1;32m    151\u001b[0m \u001b[38;5;124;03m  \"\"\"\u001b[39;00m\n\u001b[0;32m--> 153\u001b[0m   \u001b[38;5;28;01mreturn\u001b[39;00m \u001b[38;5;28;43msuper\u001b[39;49m\u001b[43m(\u001b[49m\u001b[43m)\u001b[49m\u001b[38;5;241;43m.\u001b[39;49m\u001b[43mprocess\u001b[49m\u001b[43m(\u001b[49m\u001b[43minput_data\u001b[49m\u001b[38;5;241;43m=\u001b[39;49m\u001b[43m{\u001b[49m\u001b[38;5;124;43m'\u001b[39;49m\u001b[38;5;124;43mimage\u001b[39;49m\u001b[38;5;124;43m'\u001b[39;49m\u001b[43m:\u001b[49m\u001b[43m \u001b[49m\u001b[43mimage\u001b[49m\u001b[43m}\u001b[49m\u001b[43m)\u001b[49m\n",
      "File \u001b[0;32m~/Library/Python/3.9/lib/python/site-packages/mediapipe/python/solution_base.py:340\u001b[0m, in \u001b[0;36mSolutionBase.process\u001b[0;34m(self, input_data)\u001b[0m\n\u001b[1;32m    334\u001b[0m   \u001b[38;5;28;01melse\u001b[39;00m:\n\u001b[1;32m    335\u001b[0m     \u001b[38;5;28mself\u001b[39m\u001b[38;5;241m.\u001b[39m_graph\u001b[38;5;241m.\u001b[39madd_packet_to_input_stream(\n\u001b[1;32m    336\u001b[0m         stream\u001b[38;5;241m=\u001b[39mstream_name,\n\u001b[1;32m    337\u001b[0m         packet\u001b[38;5;241m=\u001b[39m\u001b[38;5;28mself\u001b[39m\u001b[38;5;241m.\u001b[39m_make_packet(input_stream_type,\n\u001b[1;32m    338\u001b[0m                                  data)\u001b[38;5;241m.\u001b[39mat(\u001b[38;5;28mself\u001b[39m\u001b[38;5;241m.\u001b[39m_simulated_timestamp))\n\u001b[0;32m--> 340\u001b[0m \u001b[38;5;28;43mself\u001b[39;49m\u001b[38;5;241;43m.\u001b[39;49m\u001b[43m_graph\u001b[49m\u001b[38;5;241;43m.\u001b[39;49m\u001b[43mwait_until_idle\u001b[49m\u001b[43m(\u001b[49m\u001b[43m)\u001b[49m\n\u001b[1;32m    341\u001b[0m \u001b[38;5;66;03m# Create a NamedTuple object where the field names are mapping to the graph\u001b[39;00m\n\u001b[1;32m    342\u001b[0m \u001b[38;5;66;03m# output stream names.\u001b[39;00m\n\u001b[1;32m    343\u001b[0m \u001b[38;5;28;01mif\u001b[39;00m \u001b[38;5;28mself\u001b[39m\u001b[38;5;241m.\u001b[39m_output_stream_type_info \u001b[38;5;129;01mis\u001b[39;00m \u001b[38;5;28;01mNone\u001b[39;00m:\n",
      "\u001b[0;31mKeyboardInterrupt\u001b[0m: "
     ]
    },
    {
     "ename": "",
     "evalue": "",
     "output_type": "error",
     "traceback": [
      "\u001b[1;31mThe Kernel crashed while executing code in the current cell or a previous cell. \n",
      "\u001b[1;31mPlease review the code in the cell(s) to identify a possible cause of the failure. \n",
      "\u001b[1;31mClick <a href='https://aka.ms/vscodeJupyterKernelCrash'>here</a> for more info. \n",
      "\u001b[1;31mView Jupyter <a href='command:jupyter.viewOutput'>log</a> for further details."
     ]
    }
   ],
   "source": [
    "import cv2\n",
    "import mediapipe as mp\n",
    "import pyautogui\n",
    "import time\n",
    "import numpy as np\n",
    "import sounddevice as sd\n",
    "import math\n",
    "import threading\n",
    "\n",
    "# ---------------- Mediapipe Hand Detection ----------------\n",
    "mp_hands = mp.solutions.hands\n",
    "mp_drawing = mp.solutions.drawing_utils\n",
    "hands = mp_hands.Hands(min_detection_confidence=0.7, min_tracking_confidence=0.7)\n",
    "\n",
    "# ---------------- Keyboard Layout ----------------\n",
    "keys = [[\"Q\",\"W\",\"E\",\"R\",\"T\",\"Y\",\"U\",\"I\",\"O\",\"P\"],\n",
    "        [\"A\",\"S\",\"D\",\"F\",\"G\",\"H\",\"J\",\"K\",\"L\"],\n",
    "        [\"SHIFT\",\"Z\",\"X\",\"C\",\"V\",\"B\",\"N\",\"M\",\"<\",\"ENTER\"],\n",
    "        [\"SPACE\"]]\n",
    "\n",
    "# ---------------- Colors & Size ----------------\n",
    "key_color = (255, 0, 255)        # normal keys\n",
    "key_pressed_color = (0, 255, 0)  # pressed keys\n",
    "key_width, key_height = 80, 80   # key size\n",
    "\n",
    "# ---------------- Key Tracking ----------------\n",
    "last_pressed = None\n",
    "debounce_time = 0.25\n",
    "last_time = 0\n",
    "shift_active = False\n",
    "\n",
    "# ---------------- Programmatic click sound ----------------\n",
    "def play_click():\n",
    "    def beep():\n",
    "        fs = 44100\n",
    "        duration = 0.05\n",
    "        t = np.linspace(0, duration, int(fs*duration), False)\n",
    "        tone = 0.5 * np.sin(2 * np.pi * 1000 * t)\n",
    "        sd.play(tone, fs)\n",
    "        sd.wait()\n",
    "    threading.Thread(target=beep, daemon=True).start()\n",
    "\n",
    "# ---------------- Functions ----------------\n",
    "def draw_keyboard(img):\n",
    "    key_positions = {}\n",
    "    x_start, y_start = 50, 100\n",
    "    for row_idx, row in enumerate(keys):\n",
    "        x = x_start\n",
    "        for key in row:\n",
    "            w = key_width\n",
    "            if key == \"SPACE\":\n",
    "                w = 6 * key_width\n",
    "            elif key in [\"SHIFT\", \"ENTER\", \"<\"]:\n",
    "                w = 2 * key_width\n",
    "            y = y_start + row_idx * (key_height + 15)\n",
    "            # Use normal rectangle (no borderRadius)\n",
    "            cv2.rectangle(img, (x, y), (x + w, y + key_height), key_color, -1)\n",
    "            cv2.putText(img, key, (x + 15, y + 50), cv2.FONT_HERSHEY_SIMPLEX, 1, (255,255,255), 2)\n",
    "            key_positions[key] = (x, y, w, key_height)\n",
    "            x += w + 15\n",
    "    return key_positions\n",
    "\n",
    "def highlight_key(img, key_pos):\n",
    "    x, y, w, h = key_pos\n",
    "    overlay = img.copy()\n",
    "    alpha = 0.5\n",
    "    cv2.rectangle(overlay, (x, y), (x+w, y+h), key_pressed_color, -1)\n",
    "    return cv2.addWeighted(overlay, alpha, img, 1 - alpha, 0)\n",
    "\n",
    "def distance(p1, p2):\n",
    "    return math.hypot(p1[0]-p2[0], p1[1]-p2[1])\n",
    "\n",
    "# ---------------- Webcam Loop ----------------\n",
    "cap = cv2.VideoCapture(0)\n",
    "typed_text = \"\"  # optional: to display typed text on screen\n",
    "\n",
    "while cap.isOpened():\n",
    "    success, image = cap.read()\n",
    "    if not success:\n",
    "        break\n",
    "\n",
    "    image = cv2.flip(image, 1)\n",
    "    rgb_image = cv2.cvtColor(image, cv2.COLOR_BGR2RGB)\n",
    "    results = hands.process(rgb_image)\n",
    "    key_positions = draw_keyboard(image)\n",
    "\n",
    "    if results.multi_hand_landmarks:\n",
    "        for hand_landmarks in results.multi_hand_landmarks:\n",
    "            mp_drawing.draw_landmarks(image, hand_landmarks, mp_hands.HAND_CONNECTIONS)\n",
    "\n",
    "            # Index fingertip (8) and thumb tip (4)\n",
    "            ix, iy = int(hand_landmarks.landmark[8].x * image.shape[1]), int(hand_landmarks.landmark[8].y * image.shape[0])\n",
    "            tx, ty = int(hand_landmarks.landmark[4].x * image.shape[1]), int(hand_landmarks.landmark[4].y * image.shape[0])\n",
    "\n",
    "            cv2.circle(image, (ix, iy), 10, (0,255,0), -1)\n",
    "            cv2.circle(image, (tx, ty), 10, (0,0,255), -1)\n",
    "            cv2.line(image, (ix, iy), (tx, ty), (255,0,0), 2)\n",
    "\n",
    "            # Detect click: index + thumb pinch\n",
    "            if distance((ix, iy), (tx, ty)) < 40:\n",
    "                for key, pos in key_positions.items():\n",
    "                    kx, ky, kw, kh = pos\n",
    "                    if kx < ix < kx+kw and ky < iy < ky+kh:\n",
    "                        image = highlight_key(image, pos)\n",
    "                        cv2.putText(image, key, (kx + 15, ky + 50), cv2.FONT_HERSHEY_SIMPLEX, 1, (255,255,255), 2)\n",
    "\n",
    "                        current_time = time.time()\n",
    "                        if last_pressed != key or (current_time - last_time) > debounce_time:\n",
    "                            last_time = current_time\n",
    "                            last_pressed = key\n",
    "\n",
    "                            if key == \"SHIFT\":\n",
    "                                shift_active = not shift_active\n",
    "                            elif key == \"<\":\n",
    "                                pyautogui.press(\"backspace\")\n",
    "                            elif key == \"ENTER\":\n",
    "                                pyautogui.press(\"enter\")\n",
    "                            elif key == \"SPACE\":\n",
    "                                pyautogui.press(\"space\")\n",
    "                            else:\n",
    "                                if shift_active:\n",
    "                                    pyautogui.typewrite(key.upper())\n",
    "                                    shift_active = False\n",
    "                                else:\n",
    "                                    pyautogui.typewrite(key.lower())\n",
    "\n",
    "                            play_click()\n",
    "                            print(f\"Clicked: {key}\")\n",
    "\n",
    "    # Optional: display typed text\n",
    "    cv2.rectangle(image, (50, 30), (700, 80), (50,50,50), -1)\n",
    "    cv2.putText(image, typed_text, (60, 70), cv2.FONT_HERSHEY_SIMPLEX, 1, (255,255,255), 2)\n",
    "\n",
    "    cv2.imshow(\"Virtual Keyboard\", image)\n",
    "    if cv2.waitKey(1) & 0xFF == 27:  # ESC to quit\n",
    "        break\n",
    "\n",
    "cap.release()\n",
    "cv2.destroyAllWindows()\n"
   ]
  }
 ],
 "metadata": {
  "kernelspec": {
   "display_name": "Python 3",
   "language": "python",
   "name": "python3"
  },
  "language_info": {
   "codemirror_mode": {
    "name": "ipython",
    "version": 3
   },
   "file_extension": ".py",
   "mimetype": "text/x-python",
   "name": "python",
   "nbconvert_exporter": "python",
   "pygments_lexer": "ipython3",
   "version": "3.9.6"
  }
 },
 "nbformat": 4,
 "nbformat_minor": 5
}
